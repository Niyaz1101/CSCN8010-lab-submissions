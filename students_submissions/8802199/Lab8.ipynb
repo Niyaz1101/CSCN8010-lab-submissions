{
 "cells": [
  {
   "cell_type": "markdown",
   "metadata": {},
   "source": [
    "Lab 8 - A Dot product and a Matrix Multiplication in PyTorch and Tensorflow"
   ]
  },
  {
   "cell_type": "markdown",
   "metadata": {},
   "source": [
    "Using PyTorch:\n",
    "\n",
    "Calculate the dot product between two vectors each of length 3.\n",
    "\n",
    "Calculate the matrix multiplication of two 2-dimensional matrices, each with a size of (2,2)."
   ]
  },
  {
   "cell_type": "code",
   "execution_count": 2,
   "metadata": {},
   "outputs": [],
   "source": [
    "import torch\n",
    "import tensorflow as tf"
   ]
  },
  {
   "cell_type": "code",
   "execution_count": 6,
   "metadata": {},
   "outputs": [
    {
     "name": "stdout",
     "output_type": "stream",
     "text": [
      "Dot Product: tensor(32)\n",
      "Matrix Multiplication:\n",
      "tensor([[19, 22],\n",
      "        [43, 50]])\n"
     ]
    }
   ],
   "source": [
    "# Define two vectors of length 3\n",
    "vec1 = torch.tensor([1, 2, 3])\n",
    "vec2 = torch.tensor([4, 5, 6])\n",
    "\n",
    "# Calculate the dot product\n",
    "dot_product = torch.dot(vec1, vec2)\n",
    "print(\"Dot Product:\", dot_product)\n",
    "\n",
    "\n",
    "\n",
    "# Define two 2x2 matrices\n",
    "mat1 = torch.tensor([[1, 2], [3, 4]])\n",
    "mat2 = torch.tensor([[5, 6], [7, 8]])\n",
    "\n",
    "# Calculate the matrix multiplication\n",
    "matrix_product = torch.mm(mat1, mat2)\n",
    "print(\"Matrix Multiplication:\")\n",
    "print(matrix_product)"
   ]
  },
  {
   "cell_type": "markdown",
   "metadata": {},
   "source": [
    "Using Tensorflow:\n",
    "\n",
    "Calculate the dot product between the same vectors as above (re-define them in Tensorflow).\n",
    "    \n",
    "Calculate the matrix multiplication of the same matrics as above (re-define them in Tensorflow)."
   ]
  },
  {
   "cell_type": "code",
   "execution_count": 8,
   "metadata": {},
   "outputs": [
    {
     "name": "stdout",
     "output_type": "stream",
     "text": [
      "Dot Product (TensorFlow): 32.0\n",
      "Matrix Multiplication:\n",
      "[[19. 22.]\n",
      " [43. 50.]]\n"
     ]
    }
   ],
   "source": [
    "# Define the vectors using TensorFlow\n",
    "vec1_tf = tf.constant([1, 2, 3])\n",
    "vec2_tf = tf.constant([4, 5, 6])\n",
    "\n",
    "# Calculate the dot product\n",
    "dot_product_tf = tf.tensordot(vector1_tf, vector2_tf, axes=1)\n",
    "print(\"Dot Product:\", dot_product_tf.numpy())\n",
    "\n",
    "\n",
    "# Define the matrices using TensorFlow\n",
    "mat1_tf = tf.constant([[1, 2], [3, 4]])\n",
    "mat2_tf = tf.constant([[5, 6], [7, 8]])\n",
    "\n",
    "# Calculate the matrix multiplication\n",
    "matrix_product_tf = tf.matmul(matrix1_tf, matrix2_tf)\n",
    "print(\"Matrix Multiplication:\")\n",
    "print(matrix_product_tf.numpy())"
   ]
  }
 ],
 "metadata": {
  "kernelspec": {
   "display_name": "CSCN8010_classic_ml",
   "language": "python",
   "name": "python3"
  },
  "language_info": {
   "codemirror_mode": {
    "name": "ipython",
    "version": 3
   },
   "file_extension": ".py",
   "mimetype": "text/x-python",
   "name": "python",
   "nbconvert_exporter": "python",
   "pygments_lexer": "ipython3",
   "version": "3.10.6"
  }
 },
 "nbformat": 4,
 "nbformat_minor": 2
}
